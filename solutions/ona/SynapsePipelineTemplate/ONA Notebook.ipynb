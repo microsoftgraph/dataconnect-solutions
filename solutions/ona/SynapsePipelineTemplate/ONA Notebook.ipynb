{
  "nbformat": 4,
  "nbformat_minor": 2,
  "metadata": {
    "kernelspec": {
      "name": "synapse_pyspark",
      "display_name": "Synapse PySpark"
    },
    "language_info": {
      "name": "python"
    },
    "description": null,
    "save_output": true,
    "synapse_widget": {
      "version": "0.1",
      "state": {}
    }
  },
  "cells": [
    {
      "cell_type": "code",
      "execution_count": 1,
      "outputs": [
        {
          "output_type": "display_data",
          "data": {
            "application/vnd.livy.statement-meta+json": {
              "spark_pool": "onasynapsepool",
              "session_id": "105",
              "statement_id": 1,
              "state": "finished",
              "livy_statement_state": "available",
              "queued_time": "2022-12-10T01:54:46.7673776Z",
              "session_start_time": "2022-12-10T01:54:46.8425829Z",
              "execution_start_time": "2022-12-10T01:58:48.7548608Z",
              "execution_finish_time": "2022-12-10T01:58:48.9198243Z",
              "spark_jobs": null
            },
            "text/plain": "StatementMeta(onasynapsepool, 105, 1, Finished, Available)"
          },
          "metadata": {}
        }
      ],
      "metadata": {
        "jupyter": {
          "source_hidden": false,
          "outputs_hidden": false
        },
        "nteract": {
          "transient": {
            "deleting": false
          }
        },
        "tags": [
          "parameters"
        ]
      },
      "source": [
        "# Default parameters that can be freely changed or overriden by pipeline run \r\n",
        "\r\n",
        "# Inputs\r\n",
        "calendarPath = \"abfss://mgdc@onastorage.dfs.core.windows.net/calendar_2022-06-01_to_2022-11-07/\"\r\n",
        "emailPath = \"abfss://mgdc@onastorage.dfs.core.windows.net/email_2022-06-01_to_2022-11-07/\"\r\n",
        "teamsChatPath = \"abfss://mgdc@onastorage.dfs.core.windows.net/teamschat_2022-06-01_to_2022-11-07/\"\r\n",
        "userPath = \"abfss://mgdc@onastorage.dfs.core.windows.net/user_2022-06-01_to_2022-11-07/\"\r\n",
        "\r\n",
        "# Output path of user vertices\r\n",
        "usersOutputPath = \"abfss://output@onastorage.dfs.core.windows.net/users_2022-06-01_to_2022-11-07.csv\"\r\n",
        "\r\n",
        "# Output path of user to user edges\r\n",
        "interactionsOutputPath = \"abfss://output@onastorage.dfs.core.windows.net/interactions_2022-06-01_to_2022-11-07.csv\"\r\n",
        "\r\n",
        "# StartDate/EndDate for this run that is denormalized to users and interactions tables\r\n",
        "period = \"2022-06-01 to 2022-11-07\"\r\n",
        "\r\n",
        "# Whether or not to md5 hash the input user emails\r\n",
        "obfuscateEmails = True"
      ]
    },
    {
      "cell_type": "code",
      "execution_count": 2,
      "outputs": [
        {
          "output_type": "display_data",
          "data": {
            "application/vnd.livy.statement-meta+json": {
              "spark_pool": "onasynapsepool",
              "session_id": "105",
              "statement_id": 2,
              "state": "finished",
              "livy_statement_state": "available",
              "queued_time": "2022-12-10T01:54:46.7693551Z",
              "session_start_time": null,
              "execution_start_time": "2022-12-10T01:58:49.0523458Z",
              "execution_finish_time": "2022-12-10T01:59:18.4310073Z",
              "spark_jobs": null
            },
            "text/plain": "StatementMeta(onasynapsepool, 105, 2, Finished, Available)"
          },
          "metadata": {}
        }
      ],
      "metadata": {
        "microsoft": {},
        "collapsed": false
      },
      "source": [
        "# Load data\r\n",
        "meetingsRaw = spark.read.json(calendarPath)\r\n",
        "emailsRaw = spark.read.json(emailPath)\r\n",
        "teamschatsRaw = spark.read.json(teamsChatPath)\r\n",
        "usersRaw = spark.read.json(userPath)"
      ]
    },
    {
      "cell_type": "code",
      "execution_count": 3,
      "outputs": [
        {
          "output_type": "display_data",
          "data": {
            "application/vnd.livy.statement-meta+json": {
              "spark_pool": "onasynapsepool",
              "session_id": "105",
              "statement_id": 3,
              "state": "finished",
              "livy_statement_state": "available",
              "queued_time": "2022-12-10T01:54:46.7710308Z",
              "session_start_time": null,
              "execution_start_time": "2022-12-10T01:59:18.6064763Z",
              "execution_finish_time": "2022-12-10T01:59:18.7819635Z",
              "spark_jobs": null
            },
            "text/plain": "StatementMeta(onasynapsepool, 105, 3, Finished, Available)"
          },
          "metadata": {}
        }
      ],
      "metadata": {
        "jupyter": {
          "source_hidden": false,
          "outputs_hidden": false
        },
        "nteract": {
          "transient": {
            "deleting": false
          }
        }
      },
      "source": [
        "# Drop duplicates\r\n",
        "usersDedup = usersRaw.dropDuplicates([\"puser\"])\r\n",
        "emailsDedup = emailsRaw.dropDuplicates([\"Id\"]).select(\"Sender\", \"ToRecipients\")\r\n",
        "teamschatsDedup = teamschatsRaw.dropDuplicates([\"Id\"]).select(\"Sender\", \"ToRecipients\")\r\n",
        "meetingsDedup = meetingsRaw.dropDuplicates([\"Id\"]).select(\"organizer\", \"attendees\")"
      ]
    },
    {
      "cell_type": "code",
      "execution_count": 4,
      "outputs": [
        {
          "output_type": "display_data",
          "data": {
            "application/vnd.livy.statement-meta+json": {
              "spark_pool": "onasynapsepool",
              "session_id": "105",
              "statement_id": 4,
              "state": "finished",
              "livy_statement_state": "available",
              "queued_time": "2022-12-10T01:54:46.772728Z",
              "session_start_time": null,
              "execution_start_time": "2022-12-10T01:59:18.9412968Z",
              "execution_finish_time": "2022-12-10T01:59:19.1115429Z",
              "spark_jobs": null
            },
            "text/plain": "StatementMeta(onasynapsepool, 105, 4, Finished, Available)"
          },
          "metadata": {}
        }
      ],
      "metadata": {
        "jupyter": {
          "source_hidden": false,
          "outputs_hidden": false
        },
        "nteract": {
          "transient": {
            "deleting": false
          }
        }
      },
      "source": [
        "from pyspark.sql.functions import coalesce, col, count, explode, format_number, isnull, lit, md5, rand, size, udf\r\n",
        "import pyspark.sql.functions as F\r\n",
        "from pyspark.sql import types as t"
      ]
    },
    {
      "cell_type": "code",
      "execution_count": 5,
      "outputs": [
        {
          "output_type": "display_data",
          "data": {
            "application/vnd.livy.statement-meta+json": {
              "spark_pool": "onasynapsepool",
              "session_id": "105",
              "statement_id": 5,
              "state": "finished",
              "livy_statement_state": "available",
              "queued_time": "2022-12-10T01:54:46.775026Z",
              "session_start_time": null,
              "execution_start_time": "2022-12-10T01:59:19.2468531Z",
              "execution_finish_time": "2022-12-10T01:59:19.8078745Z",
              "spark_jobs": null
            },
            "text/plain": "StatementMeta(onasynapsepool, 105, 5, Finished, Available)"
          },
          "metadata": {}
        }
      ],
      "metadata": {
        "jupyter": {
          "source_hidden": false,
          "outputs_hidden": false
        },
        "nteract": {
          "transient": {
            "deleting": false
          }
        },
        "collapsed": false
      },
      "source": [
        "# Get the user email addresses and filter emails, teamschat, and meetings to only contain edges with those users\r\n",
        "usersEmailAddresses = usersDedup.selectExpr(\"lower(mail) as id\")"
      ]
    },
    {
      "cell_type": "code",
      "execution_count": 6,
      "outputs": [
        {
          "output_type": "display_data",
          "data": {
            "application/vnd.livy.statement-meta+json": {
              "spark_pool": "onasynapsepool",
              "session_id": "105",
              "statement_id": 6,
              "state": "finished",
              "livy_statement_state": "available",
              "queued_time": "2022-12-10T01:54:46.7818848Z",
              "session_start_time": null,
              "execution_start_time": "2022-12-10T01:59:19.9320294Z",
              "execution_finish_time": "2022-12-10T01:59:20.4828189Z",
              "spark_jobs": null
            },
            "text/plain": "StatementMeta(onasynapsepool, 105, 6, Finished, Available)"
          },
          "metadata": {}
        }
      ],
      "metadata": {
        "jupyter": {
          "source_hidden": false,
          "outputs_hidden": false
        },
        "nteract": {
          "transient": {
            "deleting": false
          }
        },
        "collapsed": false
      },
      "source": [
        "# Explode row with one sender -> N recipients into N rows\r\n",
        "# Filter to only keep emails with 5 or less recipients\r\n",
        "emails = emailsDedup.where(size(col(\"ToRecipients\")) <= 5) \\\r\n",
        "                    .select(F.lower(col(\"Sender.EmailAddress.Address\")).alias(\"sender\"), explode(col(\"ToRecipients\")).alias(\"exploded\")) \\\r\n",
        "                    .join(usersEmailAddresses, col(\"id\") == col(\"sender\"), \"inner\").drop(\"id\") \\\r\n",
        "                    .join(usersEmailAddresses, col(\"id\") == F.lower(col(\"exploded.EmailAddress.Address\")), \"inner\").drop(\"id\") \\\r\n",
        "                    .withColumn(\"src\", col(\"sender\")) \\\r\n",
        "                    .withColumn(\"dst\", F.lower(col(\"exploded.EmailAddress.Address\"))) \\\r\n",
        "                    .select(col(\"src\"), col(\"dst\")) \\\r\n",
        "                    .where(col(\"src\") != col(\"dst\"))\r\n",
        "if obfuscateEmails:\r\n",
        "    emails = emails.withColumn(\"srcHash\", md5(col(\"src\"))) \\\r\n",
        "                   .withColumn(\"dstHash\", md5(col(\"dst\"))) \\\r\n",
        "                   .drop(\"src\", \"dst\").selectExpr(\"srcHash as src\", \"dstHash as dst\")"
      ]
    },
    {
      "cell_type": "code",
      "execution_count": 7,
      "outputs": [
        {
          "output_type": "display_data",
          "data": {
            "application/vnd.livy.statement-meta+json": {
              "spark_pool": "onasynapsepool",
              "session_id": "105",
              "statement_id": 7,
              "state": "finished",
              "livy_statement_state": "available",
              "queued_time": "2022-12-10T01:54:46.7851063Z",
              "session_start_time": null,
              "execution_start_time": "2022-12-10T01:59:20.627382Z",
              "execution_finish_time": "2022-12-10T01:59:21.2088855Z",
              "spark_jobs": null
            },
            "text/plain": "StatementMeta(onasynapsepool, 105, 7, Finished, Available)"
          },
          "metadata": {}
        }
      ],
      "metadata": {
        "jupyter": {
          "source_hidden": false,
          "outputs_hidden": false
        },
        "nteract": {
          "transient": {
            "deleting": false
          }
        },
        "collapsed": false
      },
      "source": [
        "# Explode row with one sender -> N recipients into N rows\r\n",
        "# Filter to only keep teamschat messages with 5 or less recipients\r\n",
        "teamschats = teamschatsDedup.where(size(col(\"ToRecipients\")) <= 5) \\\r\n",
        "                            .select(F.lower(col(\"Sender.EmailAddress.Address\")).alias(\"sender\"), explode(col(\"ToRecipients\")).alias(\"exploded\")) \\\r\n",
        "                            .join(usersEmailAddresses, col(\"id\") == col(\"sender\"), \"inner\").drop(\"id\") \\\r\n",
        "                            .join(usersEmailAddresses, col(\"id\") == F.lower(col(\"exploded.EmailAddress.Address\")), \"inner\").drop(\"id\") \\\r\n",
        "                            .withColumn(\"src\", col(\"sender\")) \\\r\n",
        "                            .withColumn(\"dst\", F.lower(col(\"exploded.EmailAddress.Address\"))) \\\r\n",
        "                            .select(col(\"src\"), col(\"dst\")) \\\r\n",
        "                            .where(col(\"src\") != col(\"dst\"))\r\n",
        "if obfuscateEmails:\r\n",
        "    teamschats = teamschats.withColumn(\"srcHash\", md5(col(\"src\"))) \\\r\n",
        "                           .withColumn(\"dstHash\", md5(col(\"dst\"))) \\\r\n",
        "                           .drop(\"src\", \"dst\").selectExpr(\"srcHash as src\", \"dstHash as dst\")"
      ]
    },
    {
      "cell_type": "code",
      "execution_count": 8,
      "outputs": [
        {
          "output_type": "display_data",
          "data": {
            "application/vnd.livy.statement-meta+json": {
              "spark_pool": "onasynapsepool",
              "session_id": "105",
              "statement_id": 8,
              "state": "finished",
              "livy_statement_state": "available",
              "queued_time": "2022-12-10T01:54:46.787791Z",
              "session_start_time": null,
              "execution_start_time": "2022-12-10T01:59:21.3699635Z",
              "execution_finish_time": "2022-12-10T01:59:21.5864567Z",
              "spark_jobs": null
            },
            "text/plain": "StatementMeta(onasynapsepool, 105, 8, Finished, Available)"
          },
          "metadata": {}
        }
      ],
      "metadata": {
        "jupyter": {
          "source_hidden": false,
          "outputs_hidden": false
        },
        "nteract": {
          "transient": {
            "deleting": false
          }
        },
        "collapsed": false
      },
      "source": [
        "# Explode row with one organizer -> N attendees into N rows\r\n",
        "# Filter to only keep meetings with 5 or less attendees\r\n",
        "meetings = meetingsDedup.where(size(col(\"attendees\")) <= 5) \\\r\n",
        "                        .select(F.lower(col(\"organizer.emailAddress.address\")).alias(\"sender\"), explode(col(\"attendees\")).alias(\"exploded\")) \\\r\n",
        "                        .join(usersEmailAddresses, col(\"id\") == col(\"sender\"), \"inner\").drop(\"id\") \\\r\n",
        "                        .join(usersEmailAddresses, col(\"id\") == F.lower(col(\"exploded.EmailAddress.Address\")), \"inner\").drop(\"id\") \\\r\n",
        "                        .withColumn(\"src\", col(\"sender\")) \\\r\n",
        "                        .withColumn(\"dst\", F.lower(col(\"exploded.EmailAddress.Address\"))) \\\r\n",
        "                        .select(col(\"src\"), col(\"dst\")) \\\r\n",
        "                        .where(col(\"src\") != col(\"dst\"))\r\n",
        "if obfuscateEmails:\r\n",
        "    meetings = meetings.withColumn(\"srcHash\", md5(col(\"src\"))) \\\r\n",
        "                   .withColumn(\"dstHash\", md5(col(\"dst\"))) \\\r\n",
        "                   .drop(\"src\", \"dst\").selectExpr(\"srcHash as src\", \"dstHash as dst\")"
      ]
    },
    {
      "cell_type": "code",
      "execution_count": 9,
      "outputs": [
        {
          "output_type": "display_data",
          "data": {
            "application/vnd.livy.statement-meta+json": {
              "spark_pool": "onasynapsepool",
              "session_id": "105",
              "statement_id": 9,
              "state": "finished",
              "livy_statement_state": "available",
              "queued_time": "2022-12-10T01:54:46.790121Z",
              "session_start_time": null,
              "execution_start_time": "2022-12-10T01:59:21.7132125Z",
              "execution_finish_time": "2022-12-10T01:59:22.2788857Z",
              "spark_jobs": null
            },
            "text/plain": "StatementMeta(onasynapsepool, 105, 9, Finished, Available)"
          },
          "metadata": {}
        }
      ],
      "metadata": {
        "jupyter": {
          "source_hidden": false,
          "outputs_hidden": false
        },
        "nteract": {
          "transient": {
            "deleting": false
          }
        },
        "collapsed": false
      },
      "source": [
        "# Join after counting all email, teamsChat, meeting\r\n",
        "emailEdges = emails.groupBy(\"src\", \"dst\").count().select(col(\"src\").alias(\"src1\"), col(\"dst\").alias(\"dst1\"), col(\"count\").alias(\"numEmail\"))\r\n",
        "teamsChatEdges = teamschats.groupBy(\"src\", \"dst\").count().select(col(\"src\").alias(\"src2\"), col(\"dst\").alias(\"dst2\"), col(\"count\").alias(\"numTeamsChat\"))\r\n",
        "meetingEdges = meetings.groupBy(\"src\", \"dst\").count().select(col(\"src\").alias(\"src3\"), col(\"dst\").alias(\"dst3\"), col(\"count\").alias(\"numMeeting\"))\r\n",
        "\r\n",
        "allEdges = emailEdges.alias(\"e\").join(teamsChatEdges.alias(\"t\"), (col(\"src1\") == col(\"src2\")) & (col(\"dst1\") == col(\"dst2\")), \"full\") \\\r\n",
        "                                .join(meetingEdges.alias(\"m\"), (col(\"src1\") == col(\"src3\")) & (col(\"dst1\") == col(\"dst3\")), \"full\")"
      ]
    },
    {
      "cell_type": "code",
      "execution_count": 11,
      "outputs": [
        {
          "output_type": "display_data",
          "data": {
            "application/vnd.livy.statement-meta+json": {
              "spark_pool": "onasynapsepool",
              "session_id": "105",
              "statement_id": 11,
              "state": "finished",
              "livy_statement_state": "available",
              "queued_time": "2022-12-10T02:03:16.2533968Z",
              "session_start_time": null,
              "execution_start_time": "2022-12-10T02:03:17.5439697Z",
              "execution_finish_time": "2022-12-10T02:03:32.7114527Z",
              "spark_jobs": null
            },
            "text/plain": "StatementMeta(onasynapsepool, 105, 11, Finished, Available)"
          },
          "metadata": {}
        }
      ],
      "metadata": {
        "jupyter": {
          "source_hidden": false,
          "outputs_hidden": false
        },
        "nteract": {
          "transient": {
            "deleting": false
          }
        },
        "collapsed": false
      },
      "source": [
        "# Coalesce together src/dst duplicate columns after join\r\n",
        "teamsChatToEmailRatio = 8.0 # interaction ratio for teamschat to email\r\n",
        "edgesRenamed = allEdges.select(\r\n",
        "    coalesce( *[col(c) for c in [\"src1\", \"src2\", \"src3\"]]).alias(\"Source\"),\r\n",
        "    coalesce( *[col(c) for c in [\"dst1\", \"dst2\", \"dst3\"]]).alias(\"Target\"),\r\n",
        "    col(\"numEmail\").alias(\"InteractionsEmail\"),\r\n",
        "    col(\"numTeamsChat\").alias(\"InteractionsTeamsChat\"),\r\n",
        "    col(\"numMeeting\").alias(\"InteractionsMeetings\")\r\n",
        ").fillna(0) \\\r\n",
        " .withColumn(\"Interactions\", (col(\"InteractionsEmail\") + col(\"InteractionsMeetings\") + F.round(col(\"InteractionsTeamsChat\")/teamsChatToEmailRatio)).cast('int')) \\\r\n",
        " .withColumn(\"Period\", lit(period))\r\n",
        "edgesRenamed.coalesce(1).write.option(\"header\", True).mode(\"overwrite\").csv(interactionsOutputPath)"
      ]
    },
    {
      "cell_type": "code",
      "execution_count": 12,
      "outputs": [
        {
          "output_type": "display_data",
          "data": {
            "application/vnd.livy.statement-meta+json": {
              "spark_pool": "onasynapsepool",
              "session_id": "105",
              "statement_id": 12,
              "state": "finished",
              "livy_statement_state": "available",
              "queued_time": "2022-12-10T02:03:16.3398989Z",
              "session_start_time": null,
              "execution_start_time": "2022-12-10T02:03:32.8419602Z",
              "execution_finish_time": "2022-12-10T02:03:33.0578922Z",
              "spark_jobs": null
            },
            "text/plain": "StatementMeta(onasynapsepool, 105, 12, Finished, Available)"
          },
          "metadata": {}
        }
      ],
      "metadata": {
        "jupyter": {
          "source_hidden": false,
          "outputs_hidden": false
        },
        "nteract": {
          "transient": {
            "deleting": false
          }
        },
        "collapsed": false
      },
      "source": [
        "eventsOrganized = meetings.groupBy(\"src\").count().withColumnRenamed(\"count\", \"NumberOfEventsOrganized\")\r\n",
        "eventsAttended = meetings.groupBy(\"dst\").count().withColumnRenamed(\"count\", \"NumberOfEventsAttended\")\r\n",
        "emailsSent = emails.groupBy(\"src\").count().withColumnRenamed(\"count\", \"NumberOfEmailsSent\")\r\n",
        "emailsReceived = emails.groupBy(\"dst\").count().withColumnRenamed(\"count\", \"NumberOfEmailsReceived\")\r\n",
        "teamsChatsSent = teamschats.groupBy(\"src\").count().withColumnRenamed(\"count\", \"NumberOfChatsSent\")\r\n",
        "teamsChatsReceived = teamschats.groupBy(\"dst\").count().withColumnRenamed(\"count\", \"NumberOfChatsReceived\")"
      ]
    },
    {
      "cell_type": "code",
      "execution_count": 13,
      "outputs": [
        {
          "output_type": "display_data",
          "data": {
            "application/vnd.livy.statement-meta+json": {
              "spark_pool": "onasynapsepool",
              "session_id": "105",
              "statement_id": 13,
              "state": "finished",
              "livy_statement_state": "available",
              "queued_time": "2022-12-10T02:03:16.4502501Z",
              "session_start_time": null,
              "execution_start_time": "2022-12-10T02:03:33.2326999Z",
              "execution_finish_time": "2022-12-10T02:03:44.6743246Z",
              "spark_jobs": null
            },
            "text/plain": "StatementMeta(onasynapsepool, 105, 13, Finished, Available)"
          },
          "metadata": {}
        }
      ],
      "metadata": {
        "jupyter": {
          "source_hidden": false,
          "outputs_hidden": false
        },
        "nteract": {
          "transient": {
            "deleting": false
          }
        },
        "collapsed": false
      },
      "source": [
        "# Select user properties for output and join all raw email/teamschat/meeting counts\r\n",
        "if obfuscateEmails:\r\n",
        "    usersDedup = usersDedup.withColumn(\"EmailAddress\",  md5(F.lower(col(\"mail\"))))\r\n",
        "else:\r\n",
        "    usersDedup = usersDedup.withColumn(\"EmailAddress\", F.lower(col(\"mail\")))\r\n",
        "usersRenamed = usersDedup.selectExpr(\"EmailAddress\", \"department as Department\", \"jobTitle as Title\", \"state as StateOrProvince\",\r\n",
        "                                     \"country as Country\",\"preferredLanguage as Languages\",\"ptenant as TenantID\")\r\n",
        "usersJoined = usersRenamed.join(eventsOrganized, col(\"src\") == col(\"EmailAddress\"), \"left\").drop(\"src\") \\\r\n",
        "                          .join(eventsAttended, col(\"dst\") == col(\"EmailAddress\"), \"left\").drop(\"dst\") \\\r\n",
        "                          .join(emailsSent, col(\"src\") == col(\"EmailAddress\"), \"left\").drop(\"src\") \\\r\n",
        "                          .join(emailsReceived, col(\"dst\") == col(\"EmailAddress\"), \"left\").drop(\"dst\") \\\r\n",
        "                          .join(teamsChatsSent, col(\"src\") == col(\"EmailAddress\"), \"left\").drop(\"src\") \\\r\n",
        "                          .join(teamsChatsReceived, col(\"dst\") == col(\"EmailAddress\"), \"left\").drop(\"dst\") \\\r\n",
        "                          .fillna(0)\r\n",
        "numUsers = usersJoined.count()"
      ]
    },
    {
      "cell_type": "code",
      "execution_count": 14,
      "outputs": [
        {
          "output_type": "display_data",
          "data": {
            "application/vnd.livy.statement-meta+json": {
              "spark_pool": "onasynapsepool",
              "session_id": "105",
              "statement_id": 14,
              "state": "finished",
              "livy_statement_state": "available",
              "queued_time": "2022-12-10T02:03:16.5657142Z",
              "session_start_time": null,
              "execution_start_time": "2022-12-10T02:03:44.7941325Z",
              "execution_finish_time": "2022-12-10T02:03:45.3413715Z",
              "spark_jobs": null
            },
            "text/plain": "StatementMeta(onasynapsepool, 105, 14, Finished, Available)"
          },
          "metadata": {}
        }
      ],
      "metadata": {
        "jupyter": {
          "source_hidden": false,
          "outputs_hidden": false
        },
        "nteract": {
          "transient": {
            "deleting": false
          }
        }
      },
      "source": [
        "# Calculate out-degrees and in-degrees based on number of connections\r\n",
        "outDegreeEdges = edgesRenamed.where(col(\"Interactions\") > 0).groupBy(\"Source\").count().select(col(\"Source\"), col(\"count\").alias(\"Out-DegreeIndex\"))\r\n",
        "inDegreeEdges = edgesRenamed.where(col(\"Interactions\") > 0).groupBy(\"Target\").count().select(col(\"Target\"), col(\"count\").alias(\"In-DegreeIndex\"))"
      ]
    },
    {
      "cell_type": "code",
      "execution_count": 15,
      "outputs": [
        {
          "output_type": "display_data",
          "data": {
            "application/vnd.livy.statement-meta+json": {
              "spark_pool": "onasynapsepool",
              "session_id": "105",
              "statement_id": 15,
              "state": "finished",
              "livy_statement_state": "available",
              "queued_time": "2022-12-10T02:03:16.7077975Z",
              "session_start_time": null,
              "execution_start_time": "2022-12-10T02:03:45.8140465Z",
              "execution_finish_time": "2022-12-10T02:03:59.0765005Z",
              "spark_jobs": null
            },
            "text/plain": "StatementMeta(onasynapsepool, 105, 15, Finished, Available)"
          },
          "metadata": {}
        }
      ],
      "metadata": {
        "jupyter": {
          "source_hidden": false,
          "outputs_hidden": false
        },
        "nteract": {
          "transient": {
            "deleting": false
          }
        }
      },
      "source": [
        "# Construct networkx graph object\r\n",
        "import networkx as nx\r\n",
        "edges = edgesRenamed.selectExpr(\"Source as src\", \"Target as dst\")\r\n",
        "edgesList = [(e.src, e.dst) for e in edges.collect()]\r\n",
        "graph = nx.DiGraph()\r\n",
        "graph.add_edges_from(edgesList)"
      ]
    },
    {
      "cell_type": "code",
      "execution_count": 16,
      "outputs": [
        {
          "output_type": "display_data",
          "data": {
            "application/vnd.livy.statement-meta+json": {
              "spark_pool": "onasynapsepool",
              "session_id": "105",
              "statement_id": 16,
              "state": "finished",
              "livy_statement_state": "available",
              "queued_time": "2022-12-10T02:03:16.8351699Z",
              "session_start_time": null,
              "execution_start_time": "2022-12-10T02:03:59.2835443Z",
              "execution_finish_time": "2022-12-10T02:03:59.4459331Z",
              "spark_jobs": null
            },
            "text/plain": "StatementMeta(onasynapsepool, 105, 16, Finished, Available)"
          },
          "metadata": {}
        }
      ],
      "metadata": {
        "jupyter": {
          "source_hidden": false,
          "outputs_hidden": false
        },
        "nteract": {
          "transient": {
            "deleting": false
          }
        }
      },
      "source": [
        "# Calculate Influence Index based on page rank\r\n",
        "graphPageRank = nx.pagerank(graph, alpha=0.85, personalization=None, max_iter=100, tol=0.001, nstart=None, weight=None, dangling=None)"
      ]
    },
    {
      "cell_type": "code",
      "execution_count": 17,
      "outputs": [
        {
          "output_type": "display_data",
          "data": {
            "application/vnd.livy.statement-meta+json": {
              "spark_pool": "onasynapsepool",
              "session_id": "105",
              "statement_id": 17,
              "state": "finished",
              "livy_statement_state": "available",
              "queued_time": "2022-12-10T02:03:17.0879276Z",
              "session_start_time": null,
              "execution_start_time": "2022-12-10T02:03:59.613214Z",
              "execution_finish_time": "2022-12-10T02:03:59.78712Z",
              "spark_jobs": null
            },
            "text/plain": "StatementMeta(onasynapsepool, 105, 17, Finished, Available)"
          },
          "metadata": {}
        }
      ],
      "metadata": {
        "jupyter": {
          "source_hidden": false,
          "outputs_hidden": false
        },
        "nteract": {
          "transient": {
            "deleting": false
          }
        }
      },
      "source": [
        "# Define udf for adding page rank to dataframe\r\n",
        "def getPageRank(x):\r\n",
        "    return graphPageRank.get(x)\r\n",
        "influenceIndexUdf = udf(getPageRank, t.FloatType())"
      ]
    },
    {
      "cell_type": "code",
      "execution_count": 18,
      "outputs": [
        {
          "output_type": "display_data",
          "data": {
            "application/vnd.livy.statement-meta+json": {
              "spark_pool": "onasynapsepool",
              "session_id": "105",
              "statement_id": 18,
              "state": "finished",
              "livy_statement_state": "available",
              "queued_time": "2022-12-10T02:03:17.1928786Z",
              "session_start_time": null,
              "execution_start_time": "2022-12-10T02:04:00.2885723Z",
              "execution_finish_time": "2022-12-10T02:04:00.4713704Z",
              "spark_jobs": null
            },
            "text/plain": "StatementMeta(onasynapsepool, 105, 18, Finished, Available)"
          },
          "metadata": {}
        }
      ],
      "metadata": {
        "jupyter": {
          "source_hidden": false,
          "outputs_hidden": false
        },
        "nteract": {
          "transient": {
            "deleting": false
          }
        }
      },
      "source": [
        "# Calculate Betweeness Index\r\n",
        "# Commented out since the complexity is O(EV) where E = edges, V = vertices\r\n",
        "# This will be slow for larger graphs, roughly above 10K users\r\n",
        "# graphBetweenness = nx.betweenness_centrality(graph)"
      ]
    },
    {
      "cell_type": "code",
      "execution_count": 19,
      "outputs": [
        {
          "output_type": "display_data",
          "data": {
            "application/vnd.livy.statement-meta+json": {
              "spark_pool": "onasynapsepool",
              "session_id": "105",
              "statement_id": 19,
              "state": "finished",
              "livy_statement_state": "available",
              "queued_time": "2022-12-10T02:03:17.2920739Z",
              "session_start_time": null,
              "execution_start_time": "2022-12-10T02:04:00.6567073Z",
              "execution_finish_time": "2022-12-10T02:04:00.8167307Z",
              "spark_jobs": null
            },
            "text/plain": "StatementMeta(onasynapsepool, 105, 19, Finished, Available)"
          },
          "metadata": {}
        }
      ],
      "metadata": {
        "jupyter": {
          "source_hidden": false,
          "outputs_hidden": false
        },
        "nteract": {
          "transient": {
            "deleting": false
          }
        }
      },
      "source": [
        "# Define udf for adding betweeness to dataframe\r\n",
        "# def getBetweeness(x):\r\n",
        "#     return graphBetweenness.get(x)\r\n",
        "# betweenessIndexUdf = udf(getBetweeness, t.FloatType())"
      ]
    },
    {
      "cell_type": "code",
      "execution_count": 20,
      "outputs": [
        {
          "output_type": "display_data",
          "data": {
            "application/vnd.livy.statement-meta+json": {
              "spark_pool": "onasynapsepool",
              "session_id": "105",
              "statement_id": 20,
              "state": "finished",
              "livy_statement_state": "available",
              "queued_time": "2022-12-10T02:03:17.4097903Z",
              "session_start_time": null,
              "execution_start_time": "2022-12-10T02:04:01.162142Z",
              "execution_finish_time": "2022-12-10T02:04:01.320833Z",
              "spark_jobs": null
            },
            "text/plain": "StatementMeta(onasynapsepool, 105, 20, Finished, Available)"
          },
          "metadata": {}
        }
      ],
      "metadata": {
        "jupyter": {
          "source_hidden": false,
          "outputs_hidden": false
        },
        "nteract": {
          "transient": {
            "deleting": false
          }
        }
      },
      "source": [
        "# Calculate Community Bridging Index\r\n",
        "from networkx.algorithms import community\r\n",
        "\r\n",
        "# Get community partitions and map all nodes to a community index\r\n",
        "communities = community.asyn_lpa_communities(graph, weight=None, seed=None)\r\n",
        "labelsMap = {}\r\n",
        "label = 0\r\n",
        "for comm in communities:\r\n",
        "    for node in comm:\r\n",
        "        labelsMap[node] = str(label)\r\n",
        "    label += 1"
      ]
    },
    {
      "cell_type": "code",
      "execution_count": 21,
      "outputs": [
        {
          "output_type": "display_data",
          "data": {
            "application/vnd.livy.statement-meta+json": {
              "spark_pool": "onasynapsepool",
              "session_id": "105",
              "statement_id": 21,
              "state": "finished",
              "livy_statement_state": "available",
              "queued_time": "2022-12-10T02:03:17.5428821Z",
              "session_start_time": null,
              "execution_start_time": "2022-12-10T02:04:01.4850907Z",
              "execution_finish_time": "2022-12-10T02:04:01.6464985Z",
              "spark_jobs": null
            },
            "text/plain": "StatementMeta(onasynapsepool, 105, 21, Finished, Available)"
          },
          "metadata": {}
        }
      ],
      "metadata": {
        "jupyter": {
          "source_hidden": false,
          "outputs_hidden": false
        },
        "nteract": {
          "transient": {
            "deleting": false
          }
        }
      },
      "source": [
        "# Construct udf for mapping users to community label\r\n",
        "def getLabel(x):\r\n",
        "    return labelsMap.get(x)\r\n",
        "\r\n",
        "labelUdf = udf(getLabel, t.StringType())"
      ]
    },
    {
      "cell_type": "code",
      "execution_count": 22,
      "outputs": [
        {
          "output_type": "display_data",
          "data": {
            "application/vnd.livy.statement-meta+json": {
              "spark_pool": "onasynapsepool",
              "session_id": "105",
              "statement_id": 22,
              "state": "finished",
              "livy_statement_state": "available",
              "queued_time": "2022-12-10T02:03:17.6862868Z",
              "session_start_time": null,
              "execution_start_time": "2022-12-10T02:04:02.1597297Z",
              "execution_finish_time": "2022-12-10T02:04:02.697354Z",
              "spark_jobs": null
            },
            "text/plain": "StatementMeta(onasynapsepool, 105, 22, Finished, Available)"
          },
          "metadata": {}
        }
      ],
      "metadata": {
        "jupyter": {
          "source_hidden": false,
          "outputs_hidden": false
        },
        "nteract": {
          "transient": {
            "deleting": false
          }
        }
      },
      "source": [
        "# Counts how many communities C a user is connected to with an out edge, normalized by num of communities\r\n",
        "# For all users, compute C / (num of Communities)\r\n",
        "# 1 = they are connected to all communities\r\n",
        "# 0 = they have no connections\r\n",
        "\r\n",
        "# enrich edges by mapping target dst node to community\r\n",
        "edgesLabelled = edges.withColumn(\"Community\", labelUdf(col(\"dst\"))).drop(\"dst\").distinct()\r\n",
        "\r\n",
        "# group on src and count how many distinct community labelled targets each src has\r\n",
        "communityBridging = edgesLabelled.groupBy(\"src\").count() \\\r\n",
        "                                 .withColumn(\"CommunityBridgeIndex\", col(\"count\") / float(len(labelsMap))).drop(\"count\")"
      ]
    },
    {
      "cell_type": "code",
      "execution_count": 23,
      "outputs": [
        {
          "output_type": "display_data",
          "data": {
            "application/vnd.livy.statement-meta+json": {
              "spark_pool": "onasynapsepool",
              "session_id": "105",
              "statement_id": 23,
              "state": "finished",
              "livy_statement_state": "available",
              "queued_time": "2022-12-10T02:03:17.8739428Z",
              "session_start_time": null,
              "execution_start_time": "2022-12-10T02:04:02.8631971Z",
              "execution_finish_time": "2022-12-10T02:04:31.1235452Z",
              "spark_jobs": null
            },
            "text/plain": "StatementMeta(onasynapsepool, 105, 23, Finished, Available)"
          },
          "metadata": {}
        }
      ],
      "metadata": {
        "jupyter": {
          "source_hidden": false,
          "outputs_hidden": false
        },
        "nteract": {
          "transient": {
            "deleting": false
          }
        },
        "collapsed": false
      },
      "source": [
        "# Join all indexes to users and output\r\n",
        "usersEnriched = usersJoined.join(outDegreeEdges, col(\"Source\") == col(\"EmailAddress\"), \"left\").drop(\"Source\") \\\r\n",
        "                           .join(inDegreeEdges, col(\"Target\") == col(\"EmailAddress\"), \"left\").drop(\"Target\") \\\r\n",
        "                           .fillna(0) \\\r\n",
        "                           .withColumn(\"DegreeIndex\", (col(\"In-DegreeIndex\") + col(\"Out-DegreeIndex\")) / (2 * numUsers)) \\\r\n",
        "                           .withColumn(\"Community\", labelUdf(col(\"EmailAddress\"))) \\\r\n",
        "                           .join(communityBridging, col(\"src\") == col(\"EmailAddress\"), \"left\").drop(\"src\") \\\r\n",
        "                           .withColumn(\"InfluenceIndex\", influenceIndexUdf(col(\"EmailAddress\"))) \\\r\n",
        "                           .fillna(0) \\\r\n",
        "                           .withColumn(\"Period\", lit(period))\r\n",
        "usersEnriched.coalesce(1).write.option(\"header\", True).mode(\"overwrite\").csv(usersOutputPath)"
      ]
    }
  ]
}