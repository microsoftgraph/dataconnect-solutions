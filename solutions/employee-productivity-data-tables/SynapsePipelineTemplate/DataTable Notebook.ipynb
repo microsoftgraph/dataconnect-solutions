{
  "cells": [
    {
      "cell_type": "code",
      "source": [
        "# Default parameters that can be freely changed or overriden by pipeline run \r\n",
        "\r\n",
        "# Inputs\r\n",
        "userPath = \"abfss://mgdc@<your-storage>.dfs.core.windows.net/user_2022-06-01_to_2022-10-31/\"\r\n",
        "calendarPath = \"abfss://mgdc@<your-storage>.dfs.core.windows.net/calendar_2022-06-01_to_2022-10-31/\"\r\n",
        "emailPath = \"abfss://mgdc@<your-storage>.dfs.core.windows.net/email_2022-06-01_to_2022-10-31/\"\r\n",
        "teamsChatPath = \"abfss://mgdc@<your-storage>.dfs.core.windows.net/teamschat_2022-06-01_to_2022-10-31/\"\r\n",
        "callsPath = \"abfss://mgdc@<your-storage>.dfs.core.windows.net/calls_2022-06-01_to_2022-10-31/\"\r\n",
        "\r\n",
        "# Outputs\r\n",
        "usersOutputPath = \"abfss://output@<your-storage>.dfs.core.windows.net/users-DT_2022-06-01_to_2022-10-31.csv\"\r\n",
        "meetingsOutputPath = \"abfss://output@<your-storage>.dfs.core.windows.net/meetings-DT_2022-06-01_to_2022-10-31.csv\"\r\n",
        "emailsOutputPath = \"abfss://output@<your-storage>.dfs.core.windows.net/emails-DT_2022-06-01_to_2022-10-31.csv\"\r\n",
        "teamschatsOutputPath = \"abfss://output@<your-storage>.dfs.core.windows.net/teamschats-DT_2022-06-01_to_2022-10-31.csv\"\r\n",
        "callsOutputPath = \"abfss://output@<your-storage>.dfs.core.windows.net/calls-DT_2022-06-01_to_2022-10-31.csv\"\r\n",
        "\r\n",
        "meetingsParticipantsOutputPath = \"abfss://output@<your-storage>.dfs.core.windows.net/meetingsParticipants-DT_2022-06-01_to_2022-10-31.csv\"\r\n",
        "emailsParticipantsOutputPath = \"abfss://output@<your-storage>.dfs.core.windows.net/emailsParticipants-DT_2022-06-01_to_2022-10-31.csv\"\r\n",
        "teamschatsParticipantsOutputPath = \"abfss://output@<your-storage>.dfs.core.windows.net/teamschatsParticipants-DT_2022-06-01_to_2022-10-31.csv\"\r\n",
        "callsParticipantsOutputPath = \"abfss://output@<your-storage>.dfs.core.windows.net/callsParticipants-DT_2022-06-01_to_2022-10-31.csv\"\r\n",
        "\r\n",
        "# StartDate/EndDate for this run that is denormalized to users and interactions tables\r\n",
        "period = \"2022-06-01 to 2022-10-31\""
      ],
      "outputs": [
        {
          "output_type": "display_data",
          "data": {
            "application/vnd.livy.statement-meta+json": {
              "spark_pool": "onasynapsepool",
              "session_id": "9",
              "statement_id": 12,
              "state": "finished",
              "livy_statement_state": "available",
              "queued_time": "2023-02-10T00:45:59.6799739Z",
              "session_start_time": null,
              "execution_start_time": "2023-02-10T00:45:59.8290654Z",
              "execution_finish_time": "2023-02-10T00:46:00.0332723Z",
              "spark_jobs": null
            },
            "text/plain": "StatementMeta(onasynapsepool, 9, 12, Finished, Available)"
          },
          "metadata": {}
        }
      ],
      "execution_count": 42,
      "metadata": {
        "jupyter": {
          "source_hidden": false,
          "outputs_hidden": false
        },
        "nteract": {
          "transient": {
            "deleting": false
          }
        },
        "tags": [
          "parameters"
        ]
      }
    },
    {
      "cell_type": "code",
      "source": [
        "# Load data\r\n",
        "areEmailsLoaded = False\r\n",
        "areMeetingsLoaded = False\r\n",
        "areTeamsCallsLoaded = False\r\n",
        "areTeamsChatsLoaded = False\r\n",
        "\r\n",
        "try:\r\n",
        "    emailsRaw = spark.read.json(emailPath)\r\n",
        "    areEmailsLoaded = True\r\n",
        "except (Exception) as error:\r\n",
        "    print(error)\r\n",
        "    print(\"Emails data not loaded, continuing without emails\")\r\n",
        "\r\n",
        "try:\r\n",
        "    meetingsRaw = spark.read.json(calendarPath)\r\n",
        "    areMeetingsLoaded = True\r\n",
        "except (Exception) as error:\r\n",
        "    print(error)\r\n",
        "    print(\"Calendar data not loaded, continuing without meetings\")\r\n",
        "\r\n",
        "try:\r\n",
        "    callsRaw = spark.read.json(callsPath)\r\n",
        "    areTeamsChatsLoaded = True\r\n",
        "except (Exception) as error:\r\n",
        "    print(error)\r\n",
        "    print(\"TeamsCalls data not loaded, continuing without calls\")\r\n",
        "\r\n",
        "try:\r\n",
        "    teamsChatsRaw = spark.read.json(teamsChatPath)\r\n",
        "    areTeamsChatsLoaded = True\r\n",
        "except (Exception) as error:\r\n",
        "    print(error)\r\n",
        "    print(\"TeamsChats data not loaded, continuing without messages\")\r\n",
        "\r\n",
        "try:\r\n",
        "    usersRaw = spark.read.json(userPath)\r\n",
        "except (Exception) as error:\r\n",
        "    print(error)\r\n",
        "    raise Exception(\"Users data not loaded, check the path and whether the extraction has data\")"
      ],
      "outputs": [
        {
          "output_type": "display_data",
          "data": {
            "application/vnd.livy.statement-meta+json": {
              "spark_pool": "onasynapsepool",
              "session_id": "9",
              "statement_id": 13,
              "state": "finished",
              "livy_statement_state": "available",
              "queued_time": "2023-02-10T00:45:59.7652247Z",
              "session_start_time": null,
              "execution_start_time": "2023-02-10T00:46:00.1740262Z",
              "execution_finish_time": "2023-02-10T00:46:02.052959Z",
              "spark_jobs": null
            },
            "text/plain": "StatementMeta(onasynapsepool, 9, 13, Finished, Available)"
          },
          "metadata": {}
        },
        {
          "output_type": "stream",
          "name": "stdout",
          "text": [
            "Path does not exist: abfss://mgdc@onastoreqow3pn6tamstg.dfs.core.windows.net/asdfcalendar_2022-06-01_to_2022-10-31\nCalendar data not loaded, continuing without meetings\n"
          ]
        }
      ],
      "execution_count": 43,
      "metadata": {
        "microsoft": {},
        "collapsed": false
      }
    },
    {
      "cell_type": "code",
      "source": [
        "# Drop duplicates\r\n",
        "usersDedup = usersRaw.dropDuplicates([\"puser\"])\r\n",
        "if areEmailsLoaded:\r\n",
        "    emailsDedup = emailsRaw.dropDuplicates([\"Id\"])\r\n",
        "if areTeamsChatsLoaded:\r\n",
        "    teamsChatsDedup = teamsChatsRaw.dropDuplicates([\"Id\"])\r\n",
        "if areMeetingsLoaded:\r\n",
        "    meetingsDedup = meetingsRaw.dropDuplicates([\"Id\"])\r\n",
        "if areTeamsCallsLoaded:\r\n",
        "    callsDedup = callsRaw.dropDuplicates([\"CommunicationID\"])"
      ],
      "outputs": [
        {
          "output_type": "display_data",
          "data": {
            "application/vnd.livy.statement-meta+json": {
              "spark_pool": "onasynapsepool",
              "session_id": "9",
              "statement_id": 14,
              "state": "finished",
              "livy_statement_state": "available",
              "queued_time": "2023-02-10T00:45:59.929288Z",
              "session_start_time": null,
              "execution_start_time": "2023-02-10T00:46:02.2008051Z",
              "execution_finish_time": "2023-02-10T00:46:02.3630676Z",
              "spark_jobs": null
            },
            "text/plain": "StatementMeta(onasynapsepool, 9, 14, Finished, Available)"
          },
          "metadata": {}
        }
      ],
      "execution_count": 44,
      "metadata": {
        "jupyter": {
          "source_hidden": false,
          "outputs_hidden": false
        },
        "nteract": {
          "transient": {
            "deleting": false
          }
        },
        "collapsed": false
      }
    },
    {
      "cell_type": "code",
      "source": [
        "from pyspark.sql.functions import coalesce, col, explode, lit, size, array_union, array, split, minute\r\n",
        "import pyspark.sql.functions as F\r\n",
        "from pyspark.sql import types as t"
      ],
      "outputs": [
        {
          "output_type": "display_data",
          "data": {
            "application/vnd.livy.statement-meta+json": {
              "spark_pool": "onasynapsepool",
              "session_id": "9",
              "statement_id": 15,
              "state": "finished",
              "livy_statement_state": "available",
              "queued_time": "2023-02-10T00:46:00.3706714Z",
              "session_start_time": null,
              "execution_start_time": "2023-02-10T00:46:02.5143678Z",
              "execution_finish_time": "2023-02-10T00:46:02.6810011Z",
              "spark_jobs": null
            },
            "text/plain": "StatementMeta(onasynapsepool, 9, 15, Finished, Available)"
          },
          "metadata": {}
        }
      ],
      "execution_count": 45,
      "metadata": {
        "jupyter": {
          "source_hidden": false,
          "outputs_hidden": false
        },
        "nteract": {
          "transient": {
            "deleting": false
          }
        }
      }
    },
    {
      "cell_type": "code",
      "source": [
        "# Get the user email addresses and filter emails, teamschat, calls, and meetings to only contain edges with those users\r\n",
        "usersEmailAddresses = usersDedup.selectExpr(\"lower(mail) as userID\")\r\n",
        "usersDisplayNames = usersDedup.selectExpr(\"lower(DisplayName) as name\")"
      ],
      "outputs": [
        {
          "output_type": "display_data",
          "data": {
            "application/vnd.livy.statement-meta+json": {
              "spark_pool": "onasynapsepool",
              "session_id": "9",
              "statement_id": 16,
              "state": "finished",
              "livy_statement_state": "available",
              "queued_time": "2023-02-10T00:46:00.7049285Z",
              "session_start_time": null,
              "execution_start_time": "2023-02-10T00:46:02.8086888Z",
              "execution_finish_time": "2023-02-10T00:46:02.9700594Z",
              "spark_jobs": null
            },
            "text/plain": "StatementMeta(onasynapsepool, 9, 16, Finished, Available)"
          },
          "metadata": {}
        }
      ],
      "execution_count": 46,
      "metadata": {
        "jupyter": {
          "source_hidden": false,
          "outputs_hidden": false
        },
        "nteract": {
          "transient": {
            "deleting": false
          }
        },
        "collapsed": false
      }
    },
    {
      "cell_type": "code",
      "source": [
        "if areEmailsLoaded:\r\n",
        "    # Emails - Dedup\r\n",
        "    emails = emailsDedup.select(col(\"id\"), F.lower(col(\"Sender.EmailAddress.Address\")).alias(\"sender\"), col(\"createdDateTime\"), col(\"importance\"), col(\"receivedDateTime\"), col(\"sentDateTime\"), col(\"conversationId\"), col(\"isRead\"), col(\"isDraft\"), size(array_union(col(\"ToRecipients\"),col(\"ccRecipients\"))).alias(\"NumberOfRecipients\")) \r\n",
        "\r\n",
        "    # Emails - Explode row with one sender -> N recipients into N rows\r\n",
        "    emailsParticipants = emailsDedup.select(col(\"id\").alias(\"mailID\"), F.lower(col(\"Sender.EmailAddress.Address\")).alias(\"sender\"), explode(array_union(col(\"ToRecipients\"),col(\"ccRecipients\"))).alias(\"Recipients\")) \\\r\n",
        "                         .join(usersEmailAddresses, col(\"userID\") == col(\"sender\"), \"inner\").drop(\"userID\") \\\r\n",
        "                         .join(usersEmailAddresses, col(\"userID\") == F.lower(col(\"Recipients.EmailAddress.Address\")), \"inner\").drop(\"userID\") \\\r\n",
        "                         .withColumn(\"participant\", F.lower(col(\"Recipients.EmailAddress.Address\"))).drop(\"Recipients\") \\\r\n",
        "                         .where(col(\"sender\") != col(\"participant\"))"
      ],
      "outputs": [
        {
          "output_type": "display_data",
          "data": {
            "application/vnd.livy.statement-meta+json": {
              "spark_pool": "onasynapsepool",
              "session_id": "9",
              "statement_id": 17,
              "state": "finished",
              "livy_statement_state": "available",
              "queued_time": "2023-02-10T00:46:00.8875813Z",
              "session_start_time": null,
              "execution_start_time": "2023-02-10T00:46:03.097115Z",
              "execution_finish_time": "2023-02-10T00:46:03.2823644Z",
              "spark_jobs": null
            },
            "text/plain": "StatementMeta(onasynapsepool, 9, 17, Finished, Available)"
          },
          "metadata": {}
        }
      ],
      "execution_count": 47,
      "metadata": {
        "jupyter": {
          "source_hidden": false,
          "outputs_hidden": false
        },
        "nteract": {
          "transient": {
            "deleting": false
          }
        },
        "collapsed": false
      }
    },
    {
      "cell_type": "code",
      "source": [
        "if areTeamsChatsLoaded:\r\n",
        "    # TeamsChats - Dedup\r\n",
        "    teamsChats = teamsChatsDedup.select(col(\"id\"), col(\"ConversationId\"), F.lower(col(\"Sender.EmailAddress.Address\")).alias(\"sender\"), col(\"ReceivedDateTime\"), col(\"SentDateTime\"), size(array_union(col(\"ToRecipients\"),array(col(\"Sender\")))).alias(\"TotalParticipants\")) \r\n",
        "\r\n",
        "    # TeamsChats - Explode row with one sender -> N recipients into N rows\r\n",
        "    teamsChatsParticipants = teamsChatsDedup.select(col(\"id\").alias(\"chatID\"), F.lower(col(\"Sender.EmailAddress.Address\")).alias(\"sender\"), explode(col(\"ToRecipients\")).alias(\"Recipients\")) \\\r\n",
        "                        .join(usersEmailAddresses, col(\"userID\") == col(\"sender\"), \"inner\").drop(\"userID\") \\\r\n",
        "                        .join(usersEmailAddresses, col(\"userID\") == F.lower(col(\"Recipients.EmailAddress.Address\")), \"inner\").drop(\"userID\") \\\r\n",
        "                        .withColumn(\"participant\", F.lower(col(\"Recipients.EmailAddress.Address\"))).drop(\"Recipients\") \\\r\n",
        "                        .where(col(\"sender\") != col(\"participant\"))"
      ],
      "outputs": [
        {
          "output_type": "display_data",
          "data": {
            "application/vnd.livy.statement-meta+json": {
              "spark_pool": "onasynapsepool",
              "session_id": "9",
              "statement_id": 18,
              "state": "finished",
              "livy_statement_state": "available",
              "queued_time": "2023-02-10T00:46:01.0220187Z",
              "session_start_time": null,
              "execution_start_time": "2023-02-10T00:46:03.4361762Z",
              "execution_finish_time": "2023-02-10T00:46:03.597403Z",
              "spark_jobs": null
            },
            "text/plain": "StatementMeta(onasynapsepool, 9, 18, Finished, Available)"
          },
          "metadata": {}
        }
      ],
      "execution_count": 48,
      "metadata": {
        "jupyter": {
          "source_hidden": false,
          "outputs_hidden": false
        },
        "nteract": {
          "transient": {
            "deleting": false
          }
        },
        "collapsed": false
      }
    },
    {
      "cell_type": "code",
      "source": [
        "if areMeetingsLoaded:\r\n",
        "    # Meetings - Dedup\r\n",
        "    meetings = meetingsDedup.select(col(\"id\"), col(\"iCalUId\"), F.lower(col(\"organizer.EmailAddress.Address\")).alias(\"sender\"), col(\"createdDateTime\"), col(\"start.dateTime\").alias(\"startDateTime\"), col(\"end.dateTime\").alias(\"endDateTime\"), (minute(col(\"end.dateTime\"))-minute(col(\"start.dateTime\"))).alias(\"DurationInMinutes\"), col(\"importance\"), col(\"isCancelled\"), col(\"isOrganizer\"), col(\"type\"), size(col(\"attendees\")).alias(\"TotalAttendees\")) \r\n",
        "\r\n",
        "    # Meetings - Explode row with one sender -> N recipients into N rows\r\n",
        "    meetingsParticipants = meetingsDedup.select(col(\"id\").alias(\"meetingID\"), F.lower(col(\"organizer.EmailAddress.Address\")).alias(\"organizer\"), explode(col(\"attendees\")).alias(\"Attendee\")) \\\r\n",
        "                        .join(usersEmailAddresses, col(\"userID\") == col(\"organizer\"), \"inner\").drop(\"userID\") \\\r\n",
        "                        .join(usersEmailAddresses, col(\"userID\") == F.lower(col(\"Attendee.EmailAddress.Address\")), \"inner\").drop(\"userID\") \\\r\n",
        "                        .withColumn(\"participant\", F.lower(col(\"Attendee.EmailAddress.Address\"))) \\\r\n",
        "                        .withColumn(\"participantResponse\", split(F.lower(col(\"Attendee.Status.response\")),\"'\")[1]) \\\r\n",
        "                        .withColumn(\"participantType\", split(F.lower(col(\"Attendee.type\")),\"'\")[1]).drop(\"Attendee\") \\\r\n",
        "                        .where(col(\"organizer\") != col(\"participant\"))"
      ],
      "outputs": [
        {
          "output_type": "display_data",
          "data": {
            "application/vnd.livy.statement-meta+json": {
              "spark_pool": "onasynapsepool",
              "session_id": "9",
              "statement_id": 19,
              "state": "finished",
              "livy_statement_state": "available",
              "queued_time": "2023-02-10T00:46:01.1293002Z",
              "session_start_time": null,
              "execution_start_time": "2023-02-10T00:46:03.7185677Z",
              "execution_finish_time": "2023-02-10T00:46:03.8755401Z",
              "spark_jobs": null
            },
            "text/plain": "StatementMeta(onasynapsepool, 9, 19, Finished, Available)"
          },
          "metadata": {}
        }
      ],
      "execution_count": 49,
      "metadata": {
        "jupyter": {
          "source_hidden": false,
          "outputs_hidden": false
        },
        "nteract": {
          "transient": {
            "deleting": false
          }
        },
        "collapsed": false
      }
    },
    {
      "cell_type": "code",
      "source": [
        "if areTeamsCallsLoaded:\r\n",
        "    # Calls - Dedup\r\n",
        "    calls = callsDedup.select(col(\"Id\"), col(\"CommunicationId\"), col(\"ICalUId\"), col(\"CommunicationType\"), col(\"CommunicationSubType\"), F.lower(col(\"Organizer.DisplayName\")).alias(\"Organizer\"), F.lower(col(\"Organizer.userAADObjectId\")).alias(\"OrganizerId\"), col(\"CreatedDateTime\"), col(\"EndTime\"), col(\"StartTime\"), (minute(col(\"EndTime\"))-minute(col(\"StartTime\"))).alias(\"DurationInMinutes\"), col(\"ThreadId\"), size(col(\"Attendees\")).alias(\"TotalAttendees\")) \r\n",
        "\r\n",
        "    # Calls - Explode row with one sender -> N recipients into N rows\r\n",
        "    callsParticipants = callsDedup.select(col(\"CommunicationId\").alias(\"callID\"), F.lower(col(\"Organizer.DisplayName\")).alias(\"Organizer\"), explode(col(\"Attendees\")).alias(\"Attendee\")) \\\r\n",
        "                        .join(usersDisplayNames, col(\"name\") == col(\"Organizer\"), \"inner\").drop(\"name\") \\\r\n",
        "                        .join(usersDisplayNames, col(\"name\") == F.lower(col(\"Attendee.DisplayName\")), \"inner\").drop(\"name\") \\\r\n",
        "                        .withColumn(\"Participant\", F.lower(col(\"Attendee.DisplayName\"))).drop(\"Attendee\") \\\r\n",
        "                        .where(col(\"Organizer\") != col(\"Participant\"))"
      ],
      "outputs": [
        {
          "output_type": "display_data",
          "data": {
            "application/vnd.livy.statement-meta+json": {
              "spark_pool": "onasynapsepool",
              "session_id": "9",
              "statement_id": 20,
              "state": "finished",
              "livy_statement_state": "available",
              "queued_time": "2023-02-10T00:46:01.2749448Z",
              "session_start_time": null,
              "execution_start_time": "2023-02-10T00:46:04.2473049Z",
              "execution_finish_time": "2023-02-10T00:46:04.4074772Z",
              "spark_jobs": null
            },
            "text/plain": "StatementMeta(onasynapsepool, 9, 20, Finished, Available)"
          },
          "metadata": {}
        }
      ],
      "execution_count": 50,
      "metadata": {
        "jupyter": {
          "source_hidden": false,
          "outputs_hidden": false
        },
        "nteract": {
          "transient": {
            "deleting": false
          }
        },
        "collapsed": false
      }
    },
    {
      "cell_type": "code",
      "source": [
        "# Select user properties for output\r\n",
        "usersDedup = usersDedup.withColumn(\"EmailAddress\", F.lower(col(\"mail\")))\r\n",
        "usersRenamed = usersDedup.selectExpr(\"id as id\",  \"displayName as Name\", \"EmailAddress\", \"department as Department\", \"jobTitle as Title\", \"state as StateOrProvince\",\r\n",
        "                                     \"country as Country\",\"preferredLanguage as Languages\",\"ptenant as TenantID\")"
      ],
      "outputs": [
        {
          "output_type": "display_data",
          "data": {
            "application/vnd.livy.statement-meta+json": {
              "spark_pool": "onasynapsepool",
              "session_id": "9",
              "statement_id": 21,
              "state": "finished",
              "livy_statement_state": "available",
              "queued_time": "2023-02-10T00:46:01.3756939Z",
              "session_start_time": null,
              "execution_start_time": "2023-02-10T00:46:04.5436517Z",
              "execution_finish_time": "2023-02-10T00:46:04.7032217Z",
              "spark_jobs": null
            },
            "text/plain": "StatementMeta(onasynapsepool, 9, 21, Finished, Available)"
          },
          "metadata": {}
        }
      ],
      "execution_count": 51,
      "metadata": {
        "jupyter": {
          "source_hidden": false,
          "outputs_hidden": false
        },
        "nteract": {
          "transient": {
            "deleting": false
          }
        },
        "collapsed": false
      }
    },
    {
      "cell_type": "code",
      "source": [
        "# Output files\r\n",
        "usersEnriched = usersRenamed.withColumn(\"Period\", lit(period))\r\n",
        "usersEnriched.coalesce(1).write.option(\"header\", True).mode(\"overwrite\").csv(usersOutputPath)\r\n",
        "\r\n",
        "if areEmailsLoaded:\r\n",
        "    emailsEnriched = emails.withColumn(\"Period\", lit(period))\r\n",
        "    emailsEnriched.coalesce(1).write.option(\"header\", True).mode(\"overwrite\").csv(emailsOutputPath)\r\n",
        "    emailsParticipants.coalesce(1).write.option(\"header\", True).mode(\"overwrite\").csv(emailsParticipantsOutputPath)\r\n",
        "\r\n",
        "if areMeetingsLoaded:\r\n",
        "    meetingsEnriched = meetings.withColumn(\"Period\", lit(period))\r\n",
        "    meetingsEnriched.coalesce(1).write.option(\"header\", True).mode(\"overwrite\").csv(meetingsOutputPath)\r\n",
        "    meetingsParticipants.coalesce(1).write.option(\"header\", True).mode(\"overwrite\").csv(meetingsParticipantsOutputPath)\r\n",
        "\r\n",
        "if areTeamsChatsLoaded:\r\n",
        "    teamsChatsEnriched = teamsChats.withColumn(\"Period\", lit(period))\r\n",
        "    teamsChatsEnriched.coalesce(1).write.option(\"header\", True).mode(\"overwrite\").csv(teamschatsOutputPath)\r\n",
        "    teamsChatsParticipants.coalesce(1).write.option(\"header\", True).mode(\"overwrite\").csv(teamschatsParticipantsOutputPath)\r\n",
        "\r\n",
        "if areTeamsCallsLoaded:\r\n",
        "    callsEnriched = calls.withColumn(\"Period\", lit(period))\r\n",
        "    callsEnriched.coalesce(1).write.option(\"header\", True).mode(\"overwrite\").csv(callsOutputPath)\r\n",
        "    callsParticipants.coalesce(1).write.option(\"header\", True).mode(\"overwrite\").csv(callsParticipantsOutputPath)"
      ],
      "outputs": [
        {
          "output_type": "display_data",
          "data": {
            "application/vnd.livy.statement-meta+json": {
              "spark_pool": "onasynapsepool",
              "session_id": "9",
              "statement_id": 22,
              "state": "finished",
              "livy_statement_state": "available",
              "queued_time": "2023-02-10T00:46:01.5187579Z",
              "session_start_time": null,
              "execution_start_time": "2023-02-10T00:46:04.8454182Z",
              "execution_finish_time": "2023-02-10T00:46:22.048887Z",
              "spark_jobs": null
            },
            "text/plain": "StatementMeta(onasynapsepool, 9, 22, Finished, Available)"
          },
          "metadata": {}
        }
      ],
      "execution_count": 52,
      "metadata": {
        "jupyter": {
          "source_hidden": false,
          "outputs_hidden": false
        },
        "nteract": {
          "transient": {
            "deleting": false
          }
        },
        "collapsed": false
      }
    }
  ],
  "metadata": {
    "kernelspec": {
      "name": "synapse_pyspark",
      "display_name": "Synapse PySpark"
    },
    "language_info": {
      "name": "python"
    },
    "description": null,
    "save_output": true,
    "synapse_widget": {
      "version": "0.1",
      "state": {}
    }
  },
  "nbformat": 4,
  "nbformat_minor": 2
}